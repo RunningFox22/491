{
 "cells": [
  {
   "cell_type": "markdown",
   "id": "3b79bae7-cb9f-4ef7-9776-632e6b703dfd",
   "metadata": {},
   "source": [
    "## Introduction\n",
    "\n",
    "By: David Nguyen \n",
    "\n",
    "- #93696433\n",
    "In this steady-state temperature distribution on a two-dimensional plate with the dimension of height of 4 and width of 5 and the boundary temperature values as 93◦C, 69◦C, 64◦C, and 33◦C. The temperature distribution based on assumptions is as the following:\n",
    "\n",
    "![image.png](attachment:75827a58-5d73-43f4-a248-a40e836db144.png)\n",
    "\n",
    "![TE2 image.png](attachment:3f487465-cb60-4a3a-a517-5d16b11386ff.png)\n"
   ]
  },
  {
   "cell_type": "code",
   "execution_count": 544,
   "id": "8dbc1c2c-6041-45bd-ade8-e364b521563b",
   "metadata": {},
   "outputs": [],
   "source": [
    "import numpy as np\n",
    "import pandas as pd\n",
    "import matplotlib.pyplot as plt"
   ]
  },
  {
   "cell_type": "code",
   "execution_count": 545,
   "id": "f0ec2e54-c633-4eb1-ae1d-499d53130915",
   "metadata": {},
   "outputs": [
    {
     "name": "stdout",
     "output_type": "stream",
     "text": [
      "number of coordinates in the x and y direction of the grid: (101, 81)\n"
     ]
    }
   ],
   "source": [
    "# Grid\n",
    "x_len = 5\n",
    "y_len = 4\n",
    "dx = 0.05\n",
    "dy = 0.05\n",
    "nx = int(x_len/dx+1)\n",
    "ny = int(y_len/dy+1)\n",
    "print(f'number of coordinates in the x and y direction of the grid: {nx,ny}')"
   ]
  },
  {
   "cell_type": "code",
   "execution_count": 546,
   "id": "151f52a8-d46c-437c-a539-f45600338e3d",
   "metadata": {},
   "outputs": [
    {
     "data": {
      "text/plain": [
       "array([[0., 0., 0., ..., 0., 0., 0.],\n",
       "       [0., 0., 0., ..., 0., 0., 0.],\n",
       "       [0., 0., 0., ..., 0., 0., 0.],\n",
       "       ...,\n",
       "       [0., 0., 0., ..., 0., 0., 0.],\n",
       "       [0., 0., 0., ..., 0., 0., 0.],\n",
       "       [0., 0., 0., ..., 0., 0., 0.]])"
      ]
     },
     "execution_count": 546,
     "metadata": {},
     "output_type": "execute_result"
    }
   ],
   "source": [
    "# 2D grid of the initial temperature being 0◦C\n",
    "T = np.zeros((nx,ny))\n",
    "T"
   ]
  },
  {
   "cell_type": "code",
   "execution_count": 547,
   "id": "55433466-ad78-4b93-a9d9-a8f3f64e1822",
   "metadata": {},
   "outputs": [],
   "source": [
    "# Initial & Boundary Conditions \n",
    "T1 = 93\n",
    "T2 = 69\n",
    "T3 = 64\n",
    "T4 = 33"
   ]
  },
  {
   "cell_type": "code",
   "execution_count": 548,
   "id": "1910dd6d-e030-4715-8fe8-fd5b5d69cb50",
   "metadata": {},
   "outputs": [
    {
     "data": {
      "text/plain": [
       "array([[93., 93., 93., ..., 93., 93., 93.],\n",
       "       [33.,  0.,  0., ...,  0.,  0., 69.],\n",
       "       [33.,  0.,  0., ...,  0.,  0., 69.],\n",
       "       ...,\n",
       "       [33.,  0.,  0., ...,  0.,  0., 69.],\n",
       "       [33.,  0.,  0., ...,  0.,  0., 69.],\n",
       "       [64., 64., 64., ..., 64., 64., 64.]])"
      ]
     },
     "execution_count": 548,
     "metadata": {},
     "output_type": "execute_result"
    }
   ],
   "source": [
    "for i in range(1,nx-1):\n",
    "    # bottom wall\n",
    "    T[i,0] = T4\n",
    "    # top wall\n",
    "    T[i,ny-1] = T2\n",
    "\n",
    "for j in range(ny):\n",
    "    # left wall\n",
    "    T[0,j] = T1\n",
    "    # right wall\n",
    "    T[nx-1,j] = T3\n",
    "    \n",
    "T"
   ]
  },
  {
   "cell_type": "code",
   "execution_count": 549,
   "id": "aca12f51-6217-4df8-b456-22c05e54fffe",
   "metadata": {},
   "outputs": [],
   "source": [
    "T_k1 = np.copy(T) \n",
    "eps = []\n",
    "beta = dx/dy\n",
    "eps_max = 0.1\n",
    "omega = 1.92"
   ]
  },
  {
   "cell_type": "code",
   "execution_count": 550,
   "id": "a44287ca-e78a-4083-bd58-e557be5628a8",
   "metadata": {},
   "outputs": [],
   "source": [
    "# max iteration\n",
    "max_k = 20000"
   ]
  },
  {
   "cell_type": "code",
   "execution_count": 551,
   "id": "4aaf78fb-3c6e-4951-87ea-58f56c9c4c73",
   "metadata": {},
   "outputs": [
    {
     "name": "stdout",
     "output_type": "stream",
     "text": [
      "0 | 129.7954666618115\n",
      "25 | 18.468200859244035\n",
      "50 | 5.907018054015332\n",
      "75 | 1.8005595470816544\n",
      "100 | 0.5235320931626717\n",
      "125 | 0.17307535258049\n",
      "Residual threshold reached in 146 iterations\n"
     ]
    }
   ],
   "source": [
    "for k in range(max_k):\n",
    "    for i in range(1,nx-1):\n",
    "        for j in range(1,ny-1):\n",
    "            \n",
    "            # Jacobi Method\n",
    "#             T_k1[i,j] = (T[i+1,j] + T[i-1,j] + beta**2*(T[i,j+1] + T[i,j-1]))/(2*(1+beta**2))\n",
    "            \n",
    "            # PGS Method\n",
    "#             T_k1[i,j] = (T[i+1,j] + T_k1[i-1,j] + beta**2*(T[i,j+1] + T_k1[i,j-1]))/(2*(1+beta**2))\n",
    "            \n",
    "            # PSOR Method\n",
    "            T_k1[i,j] = (omega/(2*(1+beta**2)))*(T[i+1,j] + T_k1[i-1,j] + beta**2*(T[i,j+1] + T_k1[i,j-1]))+(1-omega)*T[i,j]\n",
    "            \n",
    "            # LGS Method\n",
    "#             T_k1[i,j] = (T_k1[i+1,j] + T_k1[i-1,j] + beta**2*(T_k1[i,j+1] + T_k1[i,j-1]))/(2*(1+beta**2))\n",
    "            \n",
    "    eps = np.append(eps,np.amax(np.absolute(np.subtract(T_k1,T))))\n",
    "    \n",
    "    T = np.copy(T_k1)\n",
    "    \n",
    "    if (k % 25) == 0:\n",
    "        print(k,'|', eps[k])\n",
    "    \n",
    "    if eps[k] < eps_max:\n",
    "        print('Residual threshold reached in', k, 'iterations')\n",
    "#         jacobi_iteration = k\n",
    "#         PGS_iteration = k\n",
    "        PSOR_iteration = k\n",
    "#         LGS_iteration = k\n",
    "        break\n",
    "        "
   ]
  },
  {
   "cell_type": "code",
   "execution_count": 552,
   "id": "6b75d66f-6783-4d0c-955b-085f9e9fc53b",
   "metadata": {},
   "outputs": [],
   "source": [
    "x_space = np.linspace(0.,x_len,nx)\n",
    "y_space = np.linspace(0.,y_len,ny)"
   ]
  },
  {
   "cell_type": "code",
   "execution_count": 553,
   "id": "b09e28f6-8089-4e63-a9fd-0e45017eb45d",
   "metadata": {},
   "outputs": [
    {
     "data": {
      "text/plain": [
       "Text(0, 0.5, 'y')"
      ]
     },
     "execution_count": 553,
     "metadata": {},
     "output_type": "execute_result"
    },
    {
     "data": {
      "image/png": "[encoded data removed]",
      "text/plain": [
       "<Figure size 432x288 with 2 Axes>"
      ]
     },
     "metadata": {
      "needs_background": "light"
     },
     "output_type": "display_data"
    }
   ],
   "source": [
    "X, Y = np.meshgrid(x_space,y_space,indexing='ij')\n",
    "plt.contourf(X,Y,T,30)\n",
    "cbar=plt.colorbar()\n",
    "cbar.ax.set_ylabel('T ($^{\\circ}$C)')\n",
    "plt.xlabel('x')\n",
    "plt.ylabel('y')"
   ]
  },
  {
   "cell_type": "code",
   "execution_count": 554,
   "id": "c314af0f-e029-4bbf-a0e6-0d2169d59b9c",
   "metadata": {},
   "outputs": [
    {
     "data": {
      "text/plain": [
       "<matplotlib.legend.Legend at 0x2068d5d6b20>"
      ]
     },
     "execution_count": 554,
     "metadata": {},
     "output_type": "execute_result"
    },
    {
     "data": {
      "image/png": "[encoded data removed]",
      "text/plain": [
       "<Figure size 432x288 with 1 Axes>"
      ]
     },
     "metadata": {
      "needs_background": "light"
     },
     "output_type": "display_data"
    }
   ],
   "source": [
    "plt.plot(np.linspace(0,k,k+1),eps,label='PSOR')\n",
    "plt.yscale('log')\n",
    "plt.xlabel('Iteration')\n",
    "plt.ylabel('$\\epsilon$')\n",
    "plt.legend()"
   ]
  },
  {
   "cell_type": "code",
   "execution_count": 555,
   "id": "b0c693a4-53a7-4db8-a3b4-e1bcad768e7a",
   "metadata": {
    "tags": []
   },
   "outputs": [
    {
     "data": {
      "text/html": [
       "<div>\n",
       "<style scoped>\n",
       "    .dataframe tbody tr th:only-of-type {\n",
       "        vertical-align: middle;\n",
       "    }\n",
       "\n",
       "    .dataframe tbody tr th {\n",
       "        vertical-align: top;\n",
       "    }\n",
       "\n",
       "    .dataframe thead th {\n",
       "        text-align: right;\n",
       "    }\n",
       "</style>\n",
       "<table border=\"1\" class=\"dataframe\">\n",
       "  <thead>\n",
       "    <tr style=\"text-align: right;\">\n",
       "      <th></th>\n",
       "      <th>Method</th>\n",
       "      <th>Iteration</th>\n",
       "    </tr>\n",
       "  </thead>\n",
       "  <tbody>\n",
       "    <tr>\n",
       "      <th>0</th>\n",
       "      <td>Jacobi</td>\n",
       "      <td>2911</td>\n",
       "    </tr>\n",
       "    <tr>\n",
       "      <th>1</th>\n",
       "      <td>PGS</td>\n",
       "      <td>2008</td>\n",
       "    </tr>\n",
       "    <tr>\n",
       "      <th>2</th>\n",
       "      <td>PSOR</td>\n",
       "      <td>146</td>\n",
       "    </tr>\n",
       "    <tr>\n",
       "      <th>3</th>\n",
       "      <td>LGS</td>\n",
       "      <td>2008</td>\n",
       "    </tr>\n",
       "  </tbody>\n",
       "</table>\n",
       "</div>"
      ],
      "text/plain": [
       "   Method  Iteration\n",
       "0  Jacobi       2911\n",
       "1     PGS       2008\n",
       "2    PSOR        146\n",
       "3     LGS       2008"
      ]
     },
     "execution_count": 555,
     "metadata": {},
     "output_type": "execute_result"
    }
   ],
   "source": [
    "dict ={'Method':['Jacobi','PGS','PSOR','LGS'],'Iteration':[jacobi_iteration,PGS_iteration,PSOR_iteration,LGS_iteration]}\n",
    "df = pd.DataFrame.from_dict(dict)\n",
    "df"
   ]
  },
  {
   "cell_type": "code",
   "execution_count": null,
   "id": "ab9df0f0-17f8-4875-96cb-1d7a20cc04a6",
   "metadata": {},
   "outputs": [],
   "source": []
  }
 ],
 "metadata": {
  "kernelspec": {
   "display_name": "Python 3 (ipykernel)",
   "language": "python",
   "name": "python3"
  },
  "language_info": {
   "codemirror_mode": {
    "name": "ipython",
    "version": 3
   },
   "file_extension": ".py",
   "mimetype": "text/x-python",
   "name": "python",
   "nbconvert_exporter": "python",
   "pygments_lexer": "ipython3",
   "version": "3.8.5"
  }
 },
 "nbformat": 4,
 "nbformat_minor": 5
}
